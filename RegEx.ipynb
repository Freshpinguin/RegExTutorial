{
 "cells": [
  {
   "cell_type": "code",
   "execution_count": 2,
   "id": "f2b200a5",
   "metadata": {},
   "outputs": [],
   "source": [
    "## TestTestTest"
   ]
  },
  {
   "cell_type": "code",
   "execution_count": null,
   "id": "f7584455",
   "metadata": {},
   "outputs": [],
   "source": []
  },
  {
   "cell_type": "code",
   "execution_count": null,
   "id": "21e40269",
   "metadata": {},
   "outputs": [],
   "source": []
  },
  {
   "cell_type": "markdown",
   "id": "6e18d2f5",
   "metadata": {},
   "source": [
    "# Kleines ReGex Tutorial in Python"
   ]
  },
  {
   "cell_type": "code",
   "execution_count": 20,
   "id": "783cf639",
   "metadata": {},
   "outputs": [],
   "source": [
    "# Das re(gex) Modul beinhaltet den Umgang mit Regulären Ausdrücken in Python\n",
    "import re "
   ]
  },
  {
   "cell_type": "markdown",
   "id": "12ccb76b",
   "metadata": {},
   "source": [
    "### fullmatch"
   ]
  },
  {
   "cell_type": "code",
   "execution_count": 27,
   "id": "ac9b9979",
   "metadata": {},
   "outputs": [],
   "source": [
    "# Die re.fullmatch( [RegulärerAusdruck], [Zu Überprüfendes Wort]  ) überprüft,\n",
    "# wie in der Vorlesung ob ein Wort in der Sprache aus einem regulären Ausdruck stammt\n",
    "# z.b:\n",
    "\n",
    "matchobject = re.fullmatch(r\"a*b*\",\"aaabb\")"
   ]
  },
  {
   "cell_type": "code",
   "execution_count": 29,
   "id": "a8e88aac",
   "metadata": {},
   "outputs": [
    {
     "data": {
      "text/plain": [
       "(0, 5)"
      ]
     },
     "execution_count": 29,
     "metadata": {},
     "output_type": "execute_result"
    }
   ],
   "source": [
    "# Ein Matchobject beinhaltet mehrere Informationen:\n",
    "\n",
    "# .span() gibt den Start und Endindex des gematchten Worts im String wieder (bei fullmatch immer 0 - ende des Strings)\n",
    "matchobject.span()"
   ]
  },
  {
   "cell_type": "code",
   "execution_count": 32,
   "id": "9f8e554f",
   "metadata": {},
   "outputs": [
    {
     "data": {
      "text/plain": [
       "'aaabb'"
      ]
     },
     "execution_count": 32,
     "metadata": {},
     "output_type": "execute_result"
    }
   ],
   "source": [
    "# .group() gibt den gematchten String zurück (bei fullmatch immer das ganze Wort)\n",
    "matchobject.group()"
   ]
  },
  {
   "cell_type": "code",
   "execution_count": 34,
   "id": "bd7dc506",
   "metadata": {},
   "outputs": [
    {
     "data": {
      "text/plain": [
       "'aaabb'"
      ]
     },
     "execution_count": 34,
     "metadata": {},
     "output_type": "execute_result"
    }
   ],
   "source": [
    "# Für uns eher interessant:\n",
    "# Wandel es in Wahr oder Falsch (für ist in der Sprache oder nicht um)"
   ]
  },
  {
   "cell_type": "code",
   "execution_count": 38,
   "id": "d91d13fe",
   "metadata": {},
   "outputs": [
    {
     "data": {
      "text/plain": [
       "True"
      ]
     },
     "execution_count": 38,
     "metadata": {},
     "output_type": "execute_result"
    }
   ],
   "source": [
    "# True für aaabb \n",
    "bool(re.fullmatch(r\"a*b*\",\"aaabb\"))"
   ]
  },
  {
   "cell_type": "code",
   "execution_count": 39,
   "id": "1a9d90a4",
   "metadata": {},
   "outputs": [
    {
     "data": {
      "text/plain": [
       "False"
      ]
     },
     "execution_count": 39,
     "metadata": {},
     "output_type": "execute_result"
    }
   ],
   "source": [
    "# False für aaacc\n",
    "bool(re.fullmatch(r\"a*b*\",\"aaacc\"))"
   ]
  },
  {
   "cell_type": "markdown",
   "id": "b3795f66",
   "metadata": {},
   "source": [
    "### reguläre Ausdrücke"
   ]
  },
  {
   "cell_type": "code",
   "execution_count": 40,
   "id": "1d72b812",
   "metadata": {},
   "outputs": [],
   "source": [
    "# Werden durch ein r vor dem String gekennzeichnet\n"
   ]
  },
  {
   "cell_type": "code",
   "execution_count": 46,
   "id": "0bef5f7f",
   "metadata": {},
   "outputs": [
    {
     "name": "stdout",
     "output_type": "stream",
     "text": [
      "True\n",
      "False\n"
     ]
    }
   ],
   "source": [
    "R = r\"hallo\" \n",
    "# Ist ein regulärer Ausdruck der genau die Zeichenfolge \"hallo\" matched\n",
    "print(bool(re.fullmatch(R,\"hallo\")))\n",
    "print(bool(re.fullmatch(R,\"hi\")))"
   ]
  },
  {
   "cell_type": "code",
   "execution_count": 47,
   "id": "29582613",
   "metadata": {},
   "outputs": [
    {
     "name": "stdout",
     "output_type": "stream",
     "text": [
      "True\n",
      "True\n"
     ]
    }
   ],
   "source": [
    "R = r\"(hallo|hi)\"\n",
    "# | steht für oder/vereinigung also matched genau \"hallo\" und \"hi\"\n",
    "print(bool(re.fullmatch(R,\"hallo\")))\n",
    "print(bool(re.fullmatch(R,\"hi\")))"
   ]
  },
  {
   "cell_type": "code",
   "execution_count": 50,
   "id": "559aa14b",
   "metadata": {},
   "outputs": [
    {
     "name": "stdout",
     "output_type": "stream",
     "text": [
      "True\n",
      "True\n",
      "True\n"
     ]
    }
   ],
   "source": [
    "R = r\"h(((a|e)llo)|i)\"\n",
    "# mit Klammer können operationen getrennt werden\n",
    "print(bool(re.fullmatch(R,\"hallo\")))\n",
    "print(bool(re.fullmatch(R,\"hi\")))\n",
    "print(bool(re.fullmatch(R,\"hello\")))"
   ]
  },
  {
   "cell_type": "code",
   "execution_count": 51,
   "id": "c730a5f6",
   "metadata": {},
   "outputs": [
    {
     "name": "stdout",
     "output_type": "stream",
     "text": [
      "True\n"
     ]
    }
   ],
   "source": [
    "R = r\"(hallo|hi)*\"\n",
    "# * funktioniert wie Kleene Abschluss \n",
    "print(bool(re.fullmatch(R,\"hallohihallohihi\")))"
   ]
  },
  {
   "cell_type": "code",
   "execution_count": 58,
   "id": "cc8f9ec4",
   "metadata": {},
   "outputs": [
    {
     "name": "stdout",
     "output_type": "stream",
     "text": [
      "True\n",
      "True\n",
      "True\n"
     ]
    }
   ],
   "source": [
    "R = r\".\"\n",
    "# . Steht für ein belieiges Zeichen\n",
    "print(bool(re.fullmatch(R,\".\")))\n",
    "print(bool(re.fullmatch(R,\"x\")))\n",
    "\n",
    "# So kann zb nur am Anfang eines längeren Strings überprüft werden:\n",
    "R = r\"Hallo.*\"\n",
    "print(bool(re.fullmatch(R,\"Hallo, mein Name ist Dieter\")))"
   ]
  },
  {
   "cell_type": "code",
   "execution_count": 60,
   "id": "e364acce",
   "metadata": {},
   "outputs": [
    {
     "name": "stdout",
     "output_type": "stream",
     "text": [
      "True\n",
      "True\n"
     ]
    }
   ],
   "source": [
    "R = r\"[abc]\"\n",
    "# [] stehen für eine Auswahl an einzelnen Charakters wäre also das gleiche wie (a|b|c) hier.\n",
    "print(bool(re.fullmatch(R,\"a\")))\n",
    "\n",
    "# mit - kann man eine größeres Auswahl treffen:\n",
    "R = r\"[A-Z]\"\n",
    "# bedeutet alle großen Buchstaben.\n",
    "print(bool(re.fullmatch(R,\"U\")))\n",
    "\n"
   ]
  },
  {
   "cell_type": "code",
   "execution_count": 61,
   "id": "0c688250",
   "metadata": {},
   "outputs": [
    {
     "name": "stdout",
     "output_type": "stream",
     "text": [
      "False\n",
      "True\n"
     ]
    }
   ],
   "source": [
    "R = r\"[A-Z][a-z]*\"\n",
    "# Überprüft also ob ein Wort mit einem großen Buchstaben beginnt\n",
    "\n",
    "print(bool(re.fullmatch(R,\"hallo\")))\n",
    "print(bool(re.fullmatch(R,\"Hallo\")))"
   ]
  },
  {
   "cell_type": "code",
   "execution_count": 63,
   "id": "93559320",
   "metadata": {},
   "outputs": [
    {
     "name": "stdout",
     "output_type": "stream",
     "text": [
      "True\n",
      "False\n"
     ]
    }
   ],
   "source": [
    "# mit \\ kann man Sonderzeichen escapen:\n",
    "# will man also nur * matchen:\n",
    "R = r\"\\*\"\n",
    "print(bool(re.fullmatch(R,\"*\")))\n",
    "print(bool(re.fullmatch(R,\"a\")))"
   ]
  },
  {
   "cell_type": "markdown",
   "id": "340d1fb8",
   "metadata": {},
   "source": [
    "## Aufgabe\n",
    "Schreibe einen Regulären Ausdruck der nur genau auf Emailadressen matched. Also beginnt mit einer beliebigen Anzahl an Buchstaben, dann ein \n",
    "@, dann wieder beliebige Buchstaben, dann ein \"mail\". Dann ein Punkt und dann entweder \"com\" oder \"de\""
   ]
  },
  {
   "cell_type": "code",
   "execution_count": null,
   "id": "cbddbaa1",
   "metadata": {},
   "outputs": [],
   "source": []
  }
 ],
 "metadata": {
  "kernelspec": {
   "display_name": "Python 3 (ipykernel)",
   "language": "python",
   "name": "python3"
  },
  "language_info": {
   "codemirror_mode": {
    "name": "ipython",
    "version": 3
   },
   "file_extension": ".py",
   "mimetype": "text/x-python",
   "name": "python",
   "nbconvert_exporter": "python",
   "pygments_lexer": "ipython3",
   "version": "3.8.10"
  }
 },
 "nbformat": 4,
 "nbformat_minor": 5
}
